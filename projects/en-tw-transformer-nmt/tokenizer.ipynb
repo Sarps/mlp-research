{
 "cells": [
  {
   "cell_type": "code",
   "id": "f0cf9660eddff12a",
   "metadata": {
    "editable": true,
    "slideshow": {
     "slide_type": ""
    },
    "tags": [
     "parameters"
    ],
    "ExecuteTime": {
     "end_time": "2024-03-02T12:18:49.897221Z",
     "start_time": "2024-03-02T12:18:49.892551Z"
    }
   },
   "source": [
    "asset_dir = '../../data/en-tw'"
   ],
   "outputs": [],
   "execution_count": 1
  },
  {
   "cell_type": "code",
   "id": "d798aec7889310f",
   "metadata": {
    "editable": true,
    "slideshow": {
     "slide_type": ""
    },
    "tags": [],
    "ExecuteTime": {
     "end_time": "2024-03-02T12:18:49.900534Z",
     "start_time": "2024-03-02T12:18:49.898499Z"
    }
   },
   "source": [
    "import os\n",
    "\n",
    "asset_dir = os.getcwd() + '/' + asset_dir\n",
    "os.makedirs(asset_dir, exist_ok=True)"
   ],
   "outputs": [],
   "execution_count": 2
  },
  {
   "cell_type": "code",
   "id": "a0254b5ced058f62",
   "metadata": {
    "editable": true,
    "slideshow": {
     "slide_type": ""
    },
    "tags": [],
    "ExecuteTime": {
     "end_time": "2024-03-02T12:18:52.743936Z",
     "start_time": "2024-03-02T12:18:49.901450Z"
    }
   },
   "source": [
    "from archive.lib.loaders import __download_and_extract, read_lines\n",
    "from tokenizers.implementations import CharBPETokenizer, BertWordPieceTokenizer"
   ],
   "outputs": [],
   "execution_count": 3
  },
  {
   "cell_type": "code",
   "id": "a24be62323ec9f5f",
   "metadata": {
    "ExecuteTime": {
     "end_time": "2024-03-02T12:18:54.695744Z",
     "start_time": "2024-03-02T12:18:52.744662Z"
    }
   },
   "source": [
    "tw_path, en_path = __download_and_extract('https://object.pouta.csc.fi/OPUS-NLLB/v1/moses/en-tw.txt.zip', 'NLLB.en-tw.tw', 'NLLB.en-tw.en')"
   ],
   "outputs": [],
   "execution_count": 4
  },
  {
   "cell_type": "code",
   "id": "b7d7a01ecb702b05",
   "metadata": {
    "ExecuteTime": {
     "end_time": "2024-03-02T12:18:54.699066Z",
     "start_time": "2024-03-02T12:18:54.697161Z"
    }
   },
   "source": [
    "import re\n",
    "\n",
    "pattern = re.compile('[^a-zA-Z0-9ɛƐɔƆ\\\\s!\"#$%&\\\\\\'()*+,\\\\-./:;<=>?@\\\\[\\\\]\\\\^_`{|}~]')"
   ],
   "outputs": [],
   "execution_count": 5
  },
  {
   "cell_type": "code",
   "id": "234abd29ab09057c",
   "metadata": {
    "ExecuteTime": {
     "end_time": "2024-03-02T12:18:55.856169Z",
     "start_time": "2024-03-02T12:18:54.699641Z"
    }
   },
   "source": [
    "# num_lines_to_extract = 1_000_000\n",
    "# \n",
    "# with open(tw_path, 'r') as original_file:\n",
    "#     lines = [next(original_file) for _ in range(num_lines_to_extract)]\n",
    "# \n",
    "# with open('extracted_lines.txt', 'w') as new_file:\n",
    "#     new_file.writelines(lines)\n",
    "# \n",
    "# tw_path = 'extracted_lines.txt'\n",
    "\n",
    "written_count = 0\n",
    "skipped_count = 0\n",
    "\n",
    "with open(en_path, 'r', encoding='utf-8') as english_file, \\\n",
    "        open(tw_path, 'r', encoding='utf-8') as twi_file, \\\n",
    "        open(f'{asset_dir}/en.txt', 'w', encoding='utf-8') as clean_english_file, \\\n",
    "        open(f'{asset_dir}/tw.txt', 'w', encoding='utf-8') as clean_twi_file:\n",
    "\n",
    "    for eng_line, twi_line in zip(english_file, twi_file):\n",
    "        if pattern.search(twi_line) is None and pattern.search(eng_line) is None:\n",
    "            written_count += 1\n",
    "            clean_english_file.write(eng_line)\n",
    "            clean_twi_file.write(twi_line)\n",
    "        else:\n",
    "            skipped_count += 1\n",
    "\n",
    "print(\"Files written successfully\", (f'{asset_dir}/en.txt', f'{asset_dir}/tw.txt'))\n",
    "print(\"Write count\", written_count)\n",
    "print(\"Skip count\", skipped_count)"
   ],
   "outputs": [
    {
     "ename": "KeyboardInterrupt",
     "evalue": "",
     "output_type": "error",
     "traceback": [
      "\u001B[0;31m---------------------------------------------------------------------------\u001B[0m",
      "\u001B[0;31mKeyboardInterrupt\u001B[0m                         Traceback (most recent call last)",
      "Cell \u001B[0;32mIn[6], line 20\u001B[0m\n\u001B[1;32m     14\u001B[0m \u001B[38;5;28;01mwith\u001B[39;00m \u001B[38;5;28mopen\u001B[39m(en_path, \u001B[38;5;124m'\u001B[39m\u001B[38;5;124mr\u001B[39m\u001B[38;5;124m'\u001B[39m, encoding\u001B[38;5;241m=\u001B[39m\u001B[38;5;124m'\u001B[39m\u001B[38;5;124mutf-8\u001B[39m\u001B[38;5;124m'\u001B[39m) \u001B[38;5;28;01mas\u001B[39;00m english_file, \\\n\u001B[1;32m     15\u001B[0m         \u001B[38;5;28mopen\u001B[39m(tw_path, \u001B[38;5;124m'\u001B[39m\u001B[38;5;124mr\u001B[39m\u001B[38;5;124m'\u001B[39m, encoding\u001B[38;5;241m=\u001B[39m\u001B[38;5;124m'\u001B[39m\u001B[38;5;124mutf-8\u001B[39m\u001B[38;5;124m'\u001B[39m) \u001B[38;5;28;01mas\u001B[39;00m twi_file, \\\n\u001B[1;32m     16\u001B[0m         \u001B[38;5;28mopen\u001B[39m(\u001B[38;5;124mf\u001B[39m\u001B[38;5;124m'\u001B[39m\u001B[38;5;132;01m{\u001B[39;00masset_dir\u001B[38;5;132;01m}\u001B[39;00m\u001B[38;5;124m/en.txt\u001B[39m\u001B[38;5;124m'\u001B[39m, \u001B[38;5;124m'\u001B[39m\u001B[38;5;124mw\u001B[39m\u001B[38;5;124m'\u001B[39m, encoding\u001B[38;5;241m=\u001B[39m\u001B[38;5;124m'\u001B[39m\u001B[38;5;124mutf-8\u001B[39m\u001B[38;5;124m'\u001B[39m) \u001B[38;5;28;01mas\u001B[39;00m clean_english_file, \\\n\u001B[1;32m     17\u001B[0m         \u001B[38;5;28mopen\u001B[39m(\u001B[38;5;124mf\u001B[39m\u001B[38;5;124m'\u001B[39m\u001B[38;5;132;01m{\u001B[39;00masset_dir\u001B[38;5;132;01m}\u001B[39;00m\u001B[38;5;124m/tw.txt\u001B[39m\u001B[38;5;124m'\u001B[39m, \u001B[38;5;124m'\u001B[39m\u001B[38;5;124mw\u001B[39m\u001B[38;5;124m'\u001B[39m, encoding\u001B[38;5;241m=\u001B[39m\u001B[38;5;124m'\u001B[39m\u001B[38;5;124mutf-8\u001B[39m\u001B[38;5;124m'\u001B[39m) \u001B[38;5;28;01mas\u001B[39;00m clean_twi_file:\n\u001B[1;32m     19\u001B[0m     \u001B[38;5;28;01mfor\u001B[39;00m eng_line, twi_line \u001B[38;5;129;01min\u001B[39;00m \u001B[38;5;28mzip\u001B[39m(english_file, twi_file):\n\u001B[0;32m---> 20\u001B[0m         \u001B[38;5;28;01mif\u001B[39;00m pattern\u001B[38;5;241m.\u001B[39msearch(twi_line) \u001B[38;5;129;01mis\u001B[39;00m \u001B[38;5;28;01mNone\u001B[39;00m \u001B[38;5;129;01mand\u001B[39;00m pattern\u001B[38;5;241m.\u001B[39msearch(eng_line) \u001B[38;5;129;01mis\u001B[39;00m \u001B[38;5;28;01mNone\u001B[39;00m:\n\u001B[1;32m     21\u001B[0m             written_count \u001B[38;5;241m+\u001B[39m\u001B[38;5;241m=\u001B[39m \u001B[38;5;241m1\u001B[39m\n\u001B[1;32m     22\u001B[0m             clean_english_file\u001B[38;5;241m.\u001B[39mwrite(eng_line)\n",
      "\u001B[0;31mKeyboardInterrupt\u001B[0m: "
     ]
    }
   ],
   "execution_count": 6
  },
  {
   "cell_type": "code",
   "id": "e9f1914e8db6f4c8",
   "metadata": {},
   "source": [
    "# %memit\n",
    "# %time\n",
    "# \n",
    "# english = BertWordPieceTokenizer()\n",
    "# english.train(['../../data/en-tw/en.txt'], vocab_size=30000)\n",
    "# english.save('../../data/en-tw/en.vocabs.json')"
   ],
   "outputs": [],
   "execution_count": null
  },
  {
   "cell_type": "code",
   "id": "88a269ee1123d645",
   "metadata": {},
   "source": [
    "# %memit\n",
    "# %time\n",
    "# \n",
    "# twi = BertWordPieceTokenizer()\n",
    "# twi.train(['../../data/en-tw/tw.txt'], vocab_size=15000)\n",
    "# twi.save('../../data/en-tw/tw.vocabs.json')"
   ],
   "outputs": [],
   "execution_count": null
  },
  {
   "cell_type": "code",
   "id": "46c7dc97547e9863",
   "metadata": {},
   "source": [
    "# print(twi.encode(\"sɛ wo dɔ w'awurade in your heart, wo koma mu ne w'ade nyinaa mu\").tokens)\n",
    "# print(twxai.encode('kofi manu ka kyerɛɛ ama ataa sɛ ɔrekɔ kumasi aba but yɛ pɛ no wurawurafoɔ enti boys no moabrɛ a, montua toɔ').tokens)"
   ],
   "outputs": [],
   "execution_count": null
  },
  {
   "cell_type": "code",
   "id": "6df1d399437c00dc",
   "metadata": {},
   "source": [
    "# print(english.encode(\"Like fire in the sky, I soar above discombabulations and instrusions\").ids)\n"
   ],
   "outputs": [],
   "execution_count": null
  },
  {
   "cell_type": "code",
   "id": "30eba41ac59d9eaa",
   "metadata": {},
   "source": [],
   "outputs": [],
   "execution_count": null
  }
 ],
 "metadata": {
  "kernelspec": {
   "display_name": "Python 3 (ipykernel)",
   "language": "python",
   "name": "python3"
  },
  "language_info": {
   "codemirror_mode": {
    "name": "ipython",
    "version": 3
   },
   "file_extension": ".py",
   "mimetype": "text/x-python",
   "name": "python",
   "nbconvert_exporter": "python",
   "pygments_lexer": "ipython3",
   "version": "3.11.7"
  }
 },
 "nbformat": 4,
 "nbformat_minor": 5
}
