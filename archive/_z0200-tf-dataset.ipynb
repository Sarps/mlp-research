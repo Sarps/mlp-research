{
 "cells": [
  {
   "cell_type": "code",
   "id": "initial_id",
   "metadata": {
    "collapsed": true,
    "ExecuteTime": {
     "end_time": "2024-02-24T09:44:21.040100Z",
     "start_time": "2024-02-24T09:44:19.273766Z"
    }
   },
   "source": [
    "from archive.lib import loaders\n",
    "\n",
    "inp_lang, targ_lang = loaders.en_tw(10000)"
   ],
   "outputs": [],
   "execution_count": 4
  },
  {
   "metadata": {
    "ExecuteTime": {
     "end_time": "2024-02-24T09:44:39.212563Z",
     "start_time": "2024-02-24T09:44:39.209136Z"
    }
   },
   "cell_type": "code",
   "source": [
    "print(inp_lang)\n",
    "print(targ_lang)"
   ],
   "id": "879473458122c589",
   "outputs": [
    {
     "name": "stdout",
     "output_type": "stream",
     "text": [
      "LanguageIndex { sequences: 10000, vocab_size: 5267, max_sequence_timestep: 65, vocab: ('', '!', \"'\", ',', '.'...) }\n",
      "LanguageIndex { sequences: 10000, vocab_size: 7740, max_sequence_timestep: 72, vocab: ('', '!', \"'\", ',', '.'...) }\n"
     ]
    }
   ],
   "execution_count": 7
  },
  {
   "metadata": {
    "ExecuteTime": {
     "end_time": "2024-02-24T09:44:21.049074Z",
     "start_time": "2024-02-24T09:44:21.043894Z"
    }
   },
   "cell_type": "code",
   "source": "",
   "id": "680f469b54b24ae",
   "outputs": [
    {
     "name": "stdout",
     "output_type": "stream",
     "text": [
      "<keras.src.layers.core.dense.Dense object at 0x15f38e750>\n"
     ]
    }
   ],
   "execution_count": 6
  },
  {
   "metadata": {
    "ExecuteTime": {
     "end_time": "2024-02-24T09:44:21.051925Z",
     "start_time": "2024-02-24T09:44:21.050603Z"
    }
   },
   "cell_type": "code",
   "source": "",
   "id": "76a12dad51d1f00e",
   "outputs": [],
   "execution_count": 6
  }
 ],
 "metadata": {
  "kernelspec": {
   "display_name": "Python 3",
   "language": "python",
   "name": "python3"
  },
  "language_info": {
   "codemirror_mode": {
    "name": "ipython",
    "version": 2
   },
   "file_extension": ".py",
   "mimetype": "text/x-python",
   "name": "python",
   "nbconvert_exporter": "python",
   "pygments_lexer": "ipython2",
   "version": "2.7.6"
  }
 },
 "nbformat": 4,
 "nbformat_minor": 5
}
