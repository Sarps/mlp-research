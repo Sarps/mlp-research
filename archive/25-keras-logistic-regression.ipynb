{
 "cells": [
  {
   "cell_type": "code",
   "id": "initial_id",
   "metadata": {
    "ExecuteTime": {
     "end_time": "2024-02-18T06:32:18.658186Z",
     "start_time": "2024-02-18T06:32:17.798597Z"
    }
   },
   "source": [
    "import pandas as pd\n",
    "\n",
    "features = pd.read_csv('../data/output/bank+marketing-bank_encoded_features.csv')\n",
    "target = pd.read_csv('../data/output/bank+marketing-bank_encoded_target.csv')\n",
    "\n",
    "print(f'features shape: {features.shape}')\n",
    "print(f'target shape: {target.shape}')"
   ],
   "outputs": [
    {
     "name": "stdout",
     "output_type": "stream",
     "text": [
      "features shape: (4521, 37)\n",
      "target shape: (4521, 1)\n"
     ]
    }
   ],
   "execution_count": 2
  },
  {
   "cell_type": "code",
   "id": "a81387dd90eba237",
   "metadata": {
    "ExecuteTime": {
     "end_time": "2024-02-18T06:32:19.384844Z",
     "start_time": "2024-02-18T06:32:18.659118Z"
    }
   },
   "source": [
    "from sklearn.model_selection import train_test_split\n",
    "\n",
    "test_size = 0.2\n",
    "random_state = 42\n",
    "\n",
    "X_train, X_test, y_train, y_test = train_test_split(features, target, test_size=test_size, random_state=random_state)\n",
    "print(f'X_train shape: {X_train.shape}')\n",
    "print(f'X_test shape: {X_test.shape}')\n",
    "print(f'y_train shape: {y_train.shape}')\n",
    "print(f'y_test shape: {y_test.shape}')"
   ],
   "outputs": [
    {
     "name": "stdout",
     "output_type": "stream",
     "text": [
      "X_train shape: (3616, 37)\n",
      "X_test shape: (905, 37)\n",
      "y_train shape: (3616, 1)\n",
      "y_test shape: (905, 1)\n"
     ]
    }
   ],
   "execution_count": 3
  },
  {
   "cell_type": "code",
   "id": "9b038ab552295895",
   "metadata": {
    "ExecuteTime": {
     "end_time": "2024-02-18T06:33:28.773028Z",
     "start_time": "2024-02-18T06:33:28.768164Z"
    }
   },
   "source": [
    "from keras import models, activations, layers\n",
    "\n",
    "model = models.Sequential(\n",
    "    name=\"logistic-regression\",\n",
    "    layers=(\n",
    "        layers.Dense(units=5, activation=\"sigmoid\"),\n",
    "        layers.Activation(activations.sigmoid),\n",
    "        layers.Dense(input_dim=5, units=1, activation=\"sigmoid\"),\n",
    "    )\n",
    ")"
   ],
   "outputs": [],
   "execution_count": 9
  },
  {
   "cell_type": "code",
   "id": "60f376a3427660db",
   "metadata": {
    "ExecuteTime": {
     "end_time": "2024-02-18T06:33:30.190303Z",
     "start_time": "2024-02-18T06:33:30.182709Z"
    }
   },
   "source": [
    "from keras import losses, optimizers, metrics\n",
    "\n",
    "model.compile(\n",
    "    loss=losses.binary_crossentropy,\n",
    "    optimizer=optimizers.legacy.Adam(),\n",
    "    metrics=[\n",
    "        \"accuracy\"\n",
    "    ]\n",
    ")"
   ],
   "outputs": [],
   "execution_count": 10
  },
  {
   "cell_type": "code",
   "id": "c74bacb03db163f3",
   "metadata": {
    "ExecuteTime": {
     "end_time": "2024-02-18T06:34:25.206365Z",
     "start_time": "2024-02-18T06:34:22.201594Z"
    }
   },
   "source": "history = model.fit(X_train, y_train, epochs=2, batch_size=1, validation_split=0.2)",
   "outputs": [
    {
     "name": "stdout",
     "output_type": "stream",
     "text": [
      "Epoch 1/2\n",
      "2892/2892 [==============================] - 2s 521us/step - loss: 0.3488 - accuracy: 0.8804 - val_loss: 0.3233 - val_accuracy: 0.8936\n",
      "Epoch 2/2\n",
      "2892/2892 [==============================] - 1s 504us/step - loss: 0.3473 - accuracy: 0.8804 - val_loss: 0.3244 - val_accuracy: 0.8936\n"
     ]
    }
   ],
   "execution_count": 15
  },
  {
   "cell_type": "code",
   "id": "d90d3802d17fe3c",
   "metadata": {
    "ExecuteTime": {
     "end_time": "2024-02-18T06:32:23.250926Z",
     "start_time": "2024-02-18T06:32:23.250881Z"
    }
   },
   "source": [
    "import matplotlib.pyplot as plt\n",
    "\n",
    "plt.plot(history.history['accuracy'])\n",
    "plt.plot(history.history['val_accuracy'])\n",
    "plt.title('Model Accuracy')\n",
    "plt.ylabel('Accuracy')\n",
    "plt.xlabel('Epoch')\n",
    "plt.legend(['Train', 'Validation'], loc='upper left')\n",
    "plt.show()"
   ],
   "outputs": [],
   "execution_count": null
  },
  {
   "cell_type": "code",
   "id": "d3786ca222a06eef",
   "metadata": {},
   "source": [
    "plt.plot(history.history['loss'])\n",
    "plt.plot(history.history['val_loss'])\n",
    "plt.title('Model Loss')\n",
    "plt.ylabel('Loss')\n",
    "plt.xlabel('Epoch')\n",
    "plt.legend(['Train', 'Validation'], loc='upper left')\n",
    "plt.show()"
   ],
   "outputs": [],
   "execution_count": null
  },
  {
   "cell_type": "code",
   "id": "24fe5ff889d6e075",
   "metadata": {},
   "source": [
    "test_loss, test_acc = model.evaluate(X_test, y_test)\n",
    "print(f'Test loss: {test_loss:.4f}, Test accuracy: {test_acc:.4f}')"
   ],
   "outputs": [],
   "execution_count": null
  }
 ],
 "metadata": {
  "kernelspec": {
   "display_name": "Python 3 (ipykernel)",
   "language": "python",
   "name": "python3"
  },
  "language_info": {
   "codemirror_mode": {
    "name": "ipython",
    "version": 3
   },
   "file_extension": ".py",
   "mimetype": "text/x-python",
   "name": "python",
   "nbconvert_exporter": "python",
   "pygments_lexer": "ipython3",
   "version": "3.11.5"
  }
 },
 "nbformat": 4,
 "nbformat_minor": 5
}
