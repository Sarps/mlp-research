{
 "cells": [
  {
   "cell_type": "code",
   "execution_count": 54,
   "id": "initial_id",
   "metadata": {
    "collapsed": true,
    "ExecuteTime": {
     "end_time": "2024-01-12T07:29:28.757514Z",
     "start_time": "2024-01-12T07:29:28.731004Z"
    }
   },
   "outputs": [],
   "source": [
    "import pandas as pd\n",
    "\n",
    "data = pd.read_csv('../data/bank+marketing/bank/bank.csv', sep=';', index_col=0)"
   ]
  },
  {
   "cell_type": "code",
   "outputs": [
    {
     "data": {
      "text/plain": "               job  marital  education default  balance housing loan  \\\nage                                                                    \n30      unemployed  married    primary      no     1787      no   no   \n33        services  married  secondary      no     4789     yes  yes   \n35      management   single   tertiary      no     1350     yes   no   \n30      management  married   tertiary      no     1476     yes  yes   \n59     blue-collar  married  secondary      no        0     yes   no   \n..             ...      ...        ...     ...      ...     ...  ...   \n33        services  married  secondary      no     -333     yes   no   \n57   self-employed  married   tertiary     yes    -3313     yes  yes   \n57      technician  married  secondary      no      295      no   no   \n28     blue-collar  married  secondary      no     1137      no   no   \n44    entrepreneur   single   tertiary      no     1136     yes  yes   \n\n      contact  day month  duration  campaign  pdays  previous poutcome   y  \nage                                                                         \n30   cellular   19   oct        79         1     -1         0  unknown  no  \n33   cellular   11   may       220         1    339         4  failure  no  \n35   cellular   16   apr       185         1    330         1  failure  no  \n30    unknown    3   jun       199         4     -1         0  unknown  no  \n59    unknown    5   may       226         1     -1         0  unknown  no  \n..        ...  ...   ...       ...       ...    ...       ...      ...  ..  \n33   cellular   30   jul       329         5     -1         0  unknown  no  \n57    unknown    9   may       153         1     -1         0  unknown  no  \n57   cellular   19   aug       151        11     -1         0  unknown  no  \n28   cellular    6   feb       129         4    211         3    other  no  \n44   cellular    3   apr       345         2    249         7    other  no  \n\n[4521 rows x 16 columns]",
      "text/html": "<div>\n<style scoped>\n    .dataframe tbody tr th:only-of-type {\n        vertical-align: middle;\n    }\n\n    .dataframe tbody tr th {\n        vertical-align: top;\n    }\n\n    .dataframe thead th {\n        text-align: right;\n    }\n</style>\n<table border=\"1\" class=\"dataframe\">\n  <thead>\n    <tr style=\"text-align: right;\">\n      <th></th>\n      <th>job</th>\n      <th>marital</th>\n      <th>education</th>\n      <th>default</th>\n      <th>balance</th>\n      <th>housing</th>\n      <th>loan</th>\n      <th>contact</th>\n      <th>day</th>\n      <th>month</th>\n      <th>duration</th>\n      <th>campaign</th>\n      <th>pdays</th>\n      <th>previous</th>\n      <th>poutcome</th>\n      <th>y</th>\n    </tr>\n    <tr>\n      <th>age</th>\n      <th></th>\n      <th></th>\n      <th></th>\n      <th></th>\n      <th></th>\n      <th></th>\n      <th></th>\n      <th></th>\n      <th></th>\n      <th></th>\n      <th></th>\n      <th></th>\n      <th></th>\n      <th></th>\n      <th></th>\n      <th></th>\n    </tr>\n  </thead>\n  <tbody>\n    <tr>\n      <th>30</th>\n      <td>unemployed</td>\n      <td>married</td>\n      <td>primary</td>\n      <td>no</td>\n      <td>1787</td>\n      <td>no</td>\n      <td>no</td>\n      <td>cellular</td>\n      <td>19</td>\n      <td>oct</td>\n      <td>79</td>\n      <td>1</td>\n      <td>-1</td>\n      <td>0</td>\n      <td>unknown</td>\n      <td>no</td>\n    </tr>\n    <tr>\n      <th>33</th>\n      <td>services</td>\n      <td>married</td>\n      <td>secondary</td>\n      <td>no</td>\n      <td>4789</td>\n      <td>yes</td>\n      <td>yes</td>\n      <td>cellular</td>\n      <td>11</td>\n      <td>may</td>\n      <td>220</td>\n      <td>1</td>\n      <td>339</td>\n      <td>4</td>\n      <td>failure</td>\n      <td>no</td>\n    </tr>\n    <tr>\n      <th>35</th>\n      <td>management</td>\n      <td>single</td>\n      <td>tertiary</td>\n      <td>no</td>\n      <td>1350</td>\n      <td>yes</td>\n      <td>no</td>\n      <td>cellular</td>\n      <td>16</td>\n      <td>apr</td>\n      <td>185</td>\n      <td>1</td>\n      <td>330</td>\n      <td>1</td>\n      <td>failure</td>\n      <td>no</td>\n    </tr>\n    <tr>\n      <th>30</th>\n      <td>management</td>\n      <td>married</td>\n      <td>tertiary</td>\n      <td>no</td>\n      <td>1476</td>\n      <td>yes</td>\n      <td>yes</td>\n      <td>unknown</td>\n      <td>3</td>\n      <td>jun</td>\n      <td>199</td>\n      <td>4</td>\n      <td>-1</td>\n      <td>0</td>\n      <td>unknown</td>\n      <td>no</td>\n    </tr>\n    <tr>\n      <th>59</th>\n      <td>blue-collar</td>\n      <td>married</td>\n      <td>secondary</td>\n      <td>no</td>\n      <td>0</td>\n      <td>yes</td>\n      <td>no</td>\n      <td>unknown</td>\n      <td>5</td>\n      <td>may</td>\n      <td>226</td>\n      <td>1</td>\n      <td>-1</td>\n      <td>0</td>\n      <td>unknown</td>\n      <td>no</td>\n    </tr>\n    <tr>\n      <th>...</th>\n      <td>...</td>\n      <td>...</td>\n      <td>...</td>\n      <td>...</td>\n      <td>...</td>\n      <td>...</td>\n      <td>...</td>\n      <td>...</td>\n      <td>...</td>\n      <td>...</td>\n      <td>...</td>\n      <td>...</td>\n      <td>...</td>\n      <td>...</td>\n      <td>...</td>\n      <td>...</td>\n    </tr>\n    <tr>\n      <th>33</th>\n      <td>services</td>\n      <td>married</td>\n      <td>secondary</td>\n      <td>no</td>\n      <td>-333</td>\n      <td>yes</td>\n      <td>no</td>\n      <td>cellular</td>\n      <td>30</td>\n      <td>jul</td>\n      <td>329</td>\n      <td>5</td>\n      <td>-1</td>\n      <td>0</td>\n      <td>unknown</td>\n      <td>no</td>\n    </tr>\n    <tr>\n      <th>57</th>\n      <td>self-employed</td>\n      <td>married</td>\n      <td>tertiary</td>\n      <td>yes</td>\n      <td>-3313</td>\n      <td>yes</td>\n      <td>yes</td>\n      <td>unknown</td>\n      <td>9</td>\n      <td>may</td>\n      <td>153</td>\n      <td>1</td>\n      <td>-1</td>\n      <td>0</td>\n      <td>unknown</td>\n      <td>no</td>\n    </tr>\n    <tr>\n      <th>57</th>\n      <td>technician</td>\n      <td>married</td>\n      <td>secondary</td>\n      <td>no</td>\n      <td>295</td>\n      <td>no</td>\n      <td>no</td>\n      <td>cellular</td>\n      <td>19</td>\n      <td>aug</td>\n      <td>151</td>\n      <td>11</td>\n      <td>-1</td>\n      <td>0</td>\n      <td>unknown</td>\n      <td>no</td>\n    </tr>\n    <tr>\n      <th>28</th>\n      <td>blue-collar</td>\n      <td>married</td>\n      <td>secondary</td>\n      <td>no</td>\n      <td>1137</td>\n      <td>no</td>\n      <td>no</td>\n      <td>cellular</td>\n      <td>6</td>\n      <td>feb</td>\n      <td>129</td>\n      <td>4</td>\n      <td>211</td>\n      <td>3</td>\n      <td>other</td>\n      <td>no</td>\n    </tr>\n    <tr>\n      <th>44</th>\n      <td>entrepreneur</td>\n      <td>single</td>\n      <td>tertiary</td>\n      <td>no</td>\n      <td>1136</td>\n      <td>yes</td>\n      <td>yes</td>\n      <td>cellular</td>\n      <td>3</td>\n      <td>apr</td>\n      <td>345</td>\n      <td>2</td>\n      <td>249</td>\n      <td>7</td>\n      <td>other</td>\n      <td>no</td>\n    </tr>\n  </tbody>\n</table>\n<p>4521 rows × 16 columns</p>\n</div>"
     },
     "execution_count": 55,
     "metadata": {},
     "output_type": "execute_result"
    }
   ],
   "source": [
    "data"
   ],
   "metadata": {
    "collapsed": false,
    "ExecuteTime": {
     "end_time": "2024-01-12T07:29:28.781665Z",
     "start_time": "2024-01-12T07:29:28.763416Z"
    }
   },
   "id": "28f429529f859976",
   "execution_count": 55
  },
  {
   "cell_type": "markdown",
   "source": [
    "### Encoding"
   ],
   "metadata": {
    "collapsed": false
   },
   "id": "3321d56c21fb56a7"
  },
  {
   "cell_type": "markdown",
   "source": [
    "#### Label Encoder\n",
    "Assigns numeric number(label) to each category in the column, eg: yes = 1, no = 0\n",
    "Usually best for columns where categories are ordinal(has some incremental succession. Like:\n",
    "hot/hotter/hottest\n",
    "cold/warm/hot\n",
    "red/orange/yellow\n",
    "Eg:\n",
    "```python\n",
    "data['is_default'] = data['default'].apply(lambda x: 1 if x == 'yes' else 0)\n",
    "```"
   ],
   "metadata": {
    "collapsed": false
   },
   "id": "1d45f20a8140f489"
  },
  {
   "cell_type": "code",
   "outputs": [],
   "source": [
    "from sklearn.preprocessing import LabelEncoder\n",
    "\n",
    "label_encoder = LabelEncoder()\n",
    "\n",
    "columns_to_convert = ['default', 'housing', 'loan', 'y']\n",
    "for col in columns_to_convert:\n",
    "    data[f'is_{col}'] = label_encoder.fit_transform(data[col])"
   ],
   "metadata": {
    "collapsed": false,
    "ExecuteTime": {
     "end_time": "2024-01-12T07:29:28.806447Z",
     "start_time": "2024-01-12T07:29:28.786193Z"
    }
   },
   "id": "ee5917e55e8fefc0",
   "execution_count": 56
  },
  {
   "cell_type": "markdown",
   "source": [
    "#### One-Hot Encoder (Dummy)\n",
    "Creates new **binary** columns per category. Eg: marital column with categories, married / single / divorced\n",
    " creates 3 new columns with all but one column being \"1\" at all times; hence \"One-Hot\"\n",
    "Suited for non-ordinal"
   ],
   "metadata": {
    "collapsed": false
   },
   "id": "b5d08a280550181c"
  },
  {
   "cell_type": "code",
   "outputs": [
    {
     "data": {
      "text/plain": "marital\nmarried     2797\nsingle      1196\ndivorced     528\nName: count, dtype: int64"
     },
     "execution_count": 57,
     "metadata": {},
     "output_type": "execute_result"
    }
   ],
   "source": [
    "data['marital'].value_counts()"
   ],
   "metadata": {
    "collapsed": false,
    "ExecuteTime": {
     "end_time": "2024-01-12T07:29:28.807615Z",
     "start_time": "2024-01-12T07:29:28.790115Z"
    }
   },
   "id": "734338bf3e9a5708",
   "execution_count": 57
  },
  {
   "cell_type": "code",
   "outputs": [
    {
     "data": {
      "text/plain": "     marital  marital_married  marital_single\nage                                          \n30   married                1               0\n33   married                1               0\n35    single                0               1\n30   married                1               0\n59   married                1               0\n..       ...              ...             ...\n33   married                1               0\n57   married                1               0\n57   married                1               0\n28   married                1               0\n44    single                0               1\n\n[4521 rows x 3 columns]",
      "text/html": "<div>\n<style scoped>\n    .dataframe tbody tr th:only-of-type {\n        vertical-align: middle;\n    }\n\n    .dataframe tbody tr th {\n        vertical-align: top;\n    }\n\n    .dataframe thead th {\n        text-align: right;\n    }\n</style>\n<table border=\"1\" class=\"dataframe\">\n  <thead>\n    <tr style=\"text-align: right;\">\n      <th></th>\n      <th>marital</th>\n      <th>marital_married</th>\n      <th>marital_single</th>\n    </tr>\n    <tr>\n      <th>age</th>\n      <th></th>\n      <th></th>\n      <th></th>\n    </tr>\n  </thead>\n  <tbody>\n    <tr>\n      <th>30</th>\n      <td>married</td>\n      <td>1</td>\n      <td>0</td>\n    </tr>\n    <tr>\n      <th>33</th>\n      <td>married</td>\n      <td>1</td>\n      <td>0</td>\n    </tr>\n    <tr>\n      <th>35</th>\n      <td>single</td>\n      <td>0</td>\n      <td>1</td>\n    </tr>\n    <tr>\n      <th>30</th>\n      <td>married</td>\n      <td>1</td>\n      <td>0</td>\n    </tr>\n    <tr>\n      <th>59</th>\n      <td>married</td>\n      <td>1</td>\n      <td>0</td>\n    </tr>\n    <tr>\n      <th>...</th>\n      <td>...</td>\n      <td>...</td>\n      <td>...</td>\n    </tr>\n    <tr>\n      <th>33</th>\n      <td>married</td>\n      <td>1</td>\n      <td>0</td>\n    </tr>\n    <tr>\n      <th>57</th>\n      <td>married</td>\n      <td>1</td>\n      <td>0</td>\n    </tr>\n    <tr>\n      <th>57</th>\n      <td>married</td>\n      <td>1</td>\n      <td>0</td>\n    </tr>\n    <tr>\n      <th>28</th>\n      <td>married</td>\n      <td>1</td>\n      <td>0</td>\n    </tr>\n    <tr>\n      <th>44</th>\n      <td>single</td>\n      <td>0</td>\n      <td>1</td>\n    </tr>\n  </tbody>\n</table>\n<p>4521 rows × 3 columns</p>\n</div>"
     },
     "execution_count": 65,
     "metadata": {},
     "output_type": "execute_result"
    }
   ],
   "source": [
    "marital_dummies = pd.get_dummies(data['marital'], prefix='marital', dtype=int, drop_first=True)\n",
    "data = pd.concat([data, marital_dummies], axis=1)\n",
    "\n",
    "pd.concat([data['marital'], marital_dummies], axis=1) # For preview only"
   ],
   "metadata": {
    "collapsed": false,
    "ExecuteTime": {
     "end_time": "2024-01-12T07:54:41.609608Z",
     "start_time": "2024-01-12T07:54:41.591620Z"
    }
   },
   "id": "be3388aba326a89",
   "execution_count": 65
  },
  {
   "cell_type": "code",
   "outputs": [],
   "source": [
    "data['job'].value_counts()"
   ],
   "metadata": {
    "collapsed": false,
    "ExecuteTime": {
     "start_time": "2024-01-12T07:29:29.038768Z"
    }
   },
   "id": "92b772852bbc1735",
   "execution_count": null
  },
  {
   "cell_type": "markdown",
   "source": [
    "#### Binary Encoder\n",
    "\n",
    "This encoder first assigns numeric labels to **non-ordinal** categories like in LabelEncoder.\n",
    "Then to avoid the training from treating the labels as ordinal, it finds the binary representation\n",
    "of those numeric labels. Which then gives us new columns with a column count equal to the number\n",
    "of bits in the highest label.\n",
    "\n",
    "A combination of **Label** and **One-Hot** encoders for non-ordinal data"
   ],
   "metadata": {
    "collapsed": false
   },
   "id": "d36a9072dd2a9512"
  },
  {
   "cell_type": "code",
   "outputs": [
    {
     "data": {
      "text/plain": "               job  job_0  job_1  job_2  job_3\nage                                           \n30      unemployed      0      0      0      1\n33        services      0      0      1      0\n35      management      0      0      1      1\n30      management      0      0      1      1\n59     blue-collar      0      1      0      0\n..             ...    ...    ...    ...    ...\n33        services      0      0      1      0\n57   self-employed      0      1      0      1\n57      technician      0      1      1      0\n28     blue-collar      0      1      0      0\n44    entrepreneur      0      1      1      1\n\n[4521 rows x 5 columns]",
      "text/html": "<div>\n<style scoped>\n    .dataframe tbody tr th:only-of-type {\n        vertical-align: middle;\n    }\n\n    .dataframe tbody tr th {\n        vertical-align: top;\n    }\n\n    .dataframe thead th {\n        text-align: right;\n    }\n</style>\n<table border=\"1\" class=\"dataframe\">\n  <thead>\n    <tr style=\"text-align: right;\">\n      <th></th>\n      <th>job</th>\n      <th>job_0</th>\n      <th>job_1</th>\n      <th>job_2</th>\n      <th>job_3</th>\n    </tr>\n    <tr>\n      <th>age</th>\n      <th></th>\n      <th></th>\n      <th></th>\n      <th></th>\n      <th></th>\n    </tr>\n  </thead>\n  <tbody>\n    <tr>\n      <th>30</th>\n      <td>unemployed</td>\n      <td>0</td>\n      <td>0</td>\n      <td>0</td>\n      <td>1</td>\n    </tr>\n    <tr>\n      <th>33</th>\n      <td>services</td>\n      <td>0</td>\n      <td>0</td>\n      <td>1</td>\n      <td>0</td>\n    </tr>\n    <tr>\n      <th>35</th>\n      <td>management</td>\n      <td>0</td>\n      <td>0</td>\n      <td>1</td>\n      <td>1</td>\n    </tr>\n    <tr>\n      <th>30</th>\n      <td>management</td>\n      <td>0</td>\n      <td>0</td>\n      <td>1</td>\n      <td>1</td>\n    </tr>\n    <tr>\n      <th>59</th>\n      <td>blue-collar</td>\n      <td>0</td>\n      <td>1</td>\n      <td>0</td>\n      <td>0</td>\n    </tr>\n    <tr>\n      <th>...</th>\n      <td>...</td>\n      <td>...</td>\n      <td>...</td>\n      <td>...</td>\n      <td>...</td>\n    </tr>\n    <tr>\n      <th>33</th>\n      <td>services</td>\n      <td>0</td>\n      <td>0</td>\n      <td>1</td>\n      <td>0</td>\n    </tr>\n    <tr>\n      <th>57</th>\n      <td>self-employed</td>\n      <td>0</td>\n      <td>1</td>\n      <td>0</td>\n      <td>1</td>\n    </tr>\n    <tr>\n      <th>57</th>\n      <td>technician</td>\n      <td>0</td>\n      <td>1</td>\n      <td>1</td>\n      <td>0</td>\n    </tr>\n    <tr>\n      <th>28</th>\n      <td>blue-collar</td>\n      <td>0</td>\n      <td>1</td>\n      <td>0</td>\n      <td>0</td>\n    </tr>\n    <tr>\n      <th>44</th>\n      <td>entrepreneur</td>\n      <td>0</td>\n      <td>1</td>\n      <td>1</td>\n      <td>1</td>\n    </tr>\n  </tbody>\n</table>\n<p>4521 rows × 5 columns</p>\n</div>"
     },
     "execution_count": 64,
     "metadata": {},
     "output_type": "execute_result"
    }
   ],
   "source": [
    "import category_encoders as ce\n",
    "encoder = ce.BinaryEncoder(cols=['job'])\n",
    "encoded = encoder.fit_transform(data['job'])\n",
    "pd.concat([data['job'], encoded], axis=1)"
   ],
   "metadata": {
    "collapsed": false,
    "ExecuteTime": {
     "end_time": "2024-01-12T07:36:19.335369Z",
     "start_time": "2024-01-12T07:36:19.318668Z"
    }
   },
   "id": "7101f52304d85b52",
   "execution_count": 64
  },
  {
   "cell_type": "markdown",
   "source": [
    "#### Ordinal Encoder\n",
    "Similar to Label Encoding but with a user-defined specific order to the categories.\n",
    "```python\n",
    "from sklearn.preprocessing import OrdinalEncoder\n",
    "ordinal_encoder = OrdinalEncoder(categories=[['cold', 'warm', 'hot']])\n",
    "data['temperature'] = ordinal_encoder.fit_transform(data[['temperature']])\n",
    "```"
   ],
   "metadata": {
    "collapsed": false
   },
   "id": "7a9005d6f6297aca"
  },
  {
   "cell_type": "code",
   "outputs": [],
   "source": [],
   "metadata": {
    "collapsed": false,
    "ExecuteTime": {
     "start_time": "2024-01-12T07:29:29.040374Z"
    }
   },
   "id": "fa41c84578ba7c73",
   "execution_count": null
  }
 ],
 "metadata": {
  "kernelspec": {
   "display_name": "Python 3",
   "language": "python",
   "name": "python3"
  },
  "language_info": {
   "codemirror_mode": {
    "name": "ipython",
    "version": 2
   },
   "file_extension": ".py",
   "mimetype": "text/x-python",
   "name": "python",
   "nbconvert_exporter": "python",
   "pygments_lexer": "ipython2",
   "version": "2.7.6"
  }
 },
 "nbformat": 4,
 "nbformat_minor": 5
}
