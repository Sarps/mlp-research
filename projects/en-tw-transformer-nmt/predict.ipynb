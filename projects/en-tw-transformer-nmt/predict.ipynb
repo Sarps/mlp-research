{
 "cells": [
  {
   "metadata": {
    "ExecuteTime": {
     "end_time": "2024-03-02T14:08:12.484363Z",
     "start_time": "2024-03-02T14:08:12.479293Z"
    }
   },
   "cell_type": "code",
   "source": [
    "import os.path\n",
    "\n",
    "import numpy as np\n",
    "import tensorflow as tf\n",
    "from archive.lib.models.graph import Graph"
   ],
   "id": "e00c06d0fed5a5e8",
   "outputs": [],
   "execution_count": 82
  },
  {
   "metadata": {
    "ExecuteTime": {
     "end_time": "2024-03-02T14:08:12.487819Z",
     "start_time": "2024-03-02T14:08:12.485898Z"
    }
   },
   "cell_type": "code",
   "source": [
    "exports_dir = 'exports/en-tw-transformer-nmt'\n",
    "asset_dir = '../../data/en-tw'\n",
    "model_file = f'{exports_dir}/checkpoint.model.keras'"
   ],
   "id": "27790ebf3ea3c700",
   "outputs": [],
   "execution_count": 83
  },
  {
   "metadata": {
    "ExecuteTime": {
     "end_time": "2024-03-02T14:08:12.490847Z",
     "start_time": "2024-03-02T14:08:12.488610Z"
    }
   },
   "cell_type": "code",
   "source": [
    "def print_translation(sentence, translation):\n",
    "    print(f'{\"Input:\":15s}: {sentence}')\n",
    "    print(f'{\"Prediction\":15s}: {translation}')"
   ],
   "id": "f5837ef57ab08670",
   "outputs": [],
   "execution_count": 84
  },
  {
   "cell_type": "code",
   "id": "initial_id",
   "metadata": {
    "collapsed": true,
    "ExecuteTime": {
     "end_time": "2024-03-02T14:08:12.495167Z",
     "start_time": "2024-03-02T14:08:12.491669Z"
    }
   },
   "source": [
    "from archive.lib.language_index import LanguageIndex\n",
    "\n",
    "\n",
    "class Translator(tf.Module):\n",
    "    def __init__(self, model: Graph, inp_lang: LanguageIndex, targ_lang: LanguageIndex):\n",
    "        super().__init__()\n",
    "        self.transformer = model\n",
    "        self.inp_lang = inp_lang\n",
    "        self.targ_lang = targ_lang\n",
    "\n",
    "    def __call__(self, sentence: str, max_length=128):\n",
    "        sentence = tf.convert_to_tensor([self.inp_lang[sentence]])\n",
    "        output = np.array([self.targ_lang.eos_token_id])\n",
    "\n",
    "        for i in tf.range(1, max_length):\n",
    "            decoder_input = output[np.newaxis]\n",
    "            predictions = self.transformer.predict((sentence, decoder_input), batch_size=1, verbose=2)\n",
    "            predicted_id = tf.argmax(predictions[:, -1:, :], axis=-1)\n",
    "\n",
    "            output = np.append(output, predicted_id[0], axis=0)\n",
    "            if predicted_id == self.targ_lang.eos_token_id:\n",
    "                break\n",
    "\n",
    "        print(output.tolist())\n",
    "        text = self.targ_lang[output.tolist()]\n",
    "\n",
    "        return text"
   ],
   "outputs": [],
   "execution_count": 85
  },
  {
   "metadata": {
    "ExecuteTime": {
     "end_time": "2024-03-02T14:08:12.517402Z",
     "start_time": "2024-03-02T14:08:12.496635Z"
    }
   },
   "cell_type": "code",
   "source": [
    "from archive.lib.configs.tranformers import TransformerModelConfigs\n",
    "\n",
    "configs: TransformerModelConfigs = TransformerModelConfigs.load(os.path.join(exports_dir, 'config.json'))\n",
    "\n",
    "inp_lang = configs.input_language_index(asset_dir)\n",
    "targ_lang = configs.target_language_index(asset_dir)"
   ],
   "id": "bd8b77c8045d4d27",
   "outputs": [],
   "execution_count": 86
  },
  {
   "metadata": {
    "ExecuteTime": {
     "end_time": "2024-03-02T14:08:12.897795Z",
     "start_time": "2024-03-02T14:08:12.518043Z"
    }
   },
   "cell_type": "code",
   "source": [
    "from archive.lib.models.transformer import Transformer\n",
    "\n",
    "model = Transformer(configs, inp_lang.vocab_size, targ_lang.vocab_size)\n",
    "model.load_weights(model_file)\n",
    "\n",
    "model.summary()"
   ],
   "id": "f6a7bd6c1fb7388e",
   "outputs": [
    {
     "name": "stdout",
     "output_type": "stream",
     "text": [
      "Model: \"model_15\"\n",
      "__________________________________________________________________________________________________\n",
      " Layer (type)                Output Shape                 Param #   Connected to                  \n",
      "==================================================================================================\n",
      " input_31 (InputLayer)       [(None, 128)]                0         []                            \n",
      "                                                                                                  \n",
      " input_32 (InputLayer)       [(None, 128)]                0         []                            \n",
      "                                                                                                  \n",
      " encoder_15 (Encoder)        (None, 128, 128)             4499712   ['input_31[0][0]']            \n",
      "                                                                                                  \n",
      " decoder_15 (Decoder)        (None, 128, 128)             3107456   ['input_32[0][0]',            \n",
      "                                                                     'encoder_15[0][0]']          \n",
      "                                                                                                  \n",
      " dense_79 (Dense)            (None, 128, 15000)           1935000   ['decoder_15[0][0]']          \n",
      "                                                                                                  \n",
      "==================================================================================================\n",
      "Total params: 9542168 (36.40 MB)\n",
      "Trainable params: 9542168 (36.40 MB)\n",
      "Non-trainable params: 0 (0.00 Byte)\n",
      "__________________________________________________________________________________________________\n"
     ]
    }
   ],
   "execution_count": 87
  },
  {
   "metadata": {
    "ExecuteTime": {
     "end_time": "2024-03-02T14:08:12.904966Z",
     "start_time": "2024-03-02T14:08:12.898889Z"
    }
   },
   "cell_type": "code",
   "source": "translator = Translator(model, inp_lang, targ_lang)",
   "id": "84d9db9700ff818c",
   "outputs": [],
   "execution_count": 88
  },
  {
   "metadata": {
    "ExecuteTime": {
     "end_time": "2024-03-02T14:10:06.823729Z",
     "start_time": "2024-03-02T14:10:02.455969Z"
    }
   },
   "cell_type": "code",
   "source": [
    "sentence = \"Sarpong is going to school\"\n",
    "\n",
    "print_translation(sentence, translator(sentence, max_length=128))"
   ],
   "id": "e988c40349a06661",
   "outputs": [
    {
     "name": "stdout",
     "output_type": "stream",
     "text": [
      "1/1 - 0s - 13ms/epoch - 13ms/step\n",
      "1/1 - 0s - 13ms/epoch - 13ms/step\n",
      "1/1 - 0s - 14ms/epoch - 14ms/step\n",
      "1/1 - 0s - 13ms/epoch - 13ms/step\n",
      "1/1 - 0s - 14ms/epoch - 14ms/step\n",
      "1/1 - 0s - 14ms/epoch - 14ms/step\n",
      "1/1 - 0s - 14ms/epoch - 14ms/step\n",
      "1/1 - 0s - 13ms/epoch - 13ms/step\n",
      "1/1 - 0s - 13ms/epoch - 13ms/step\n",
      "1/1 - 0s - 12ms/epoch - 12ms/step\n",
      "1/1 - 0s - 12ms/epoch - 12ms/step\n",
      "1/1 - 0s - 12ms/epoch - 12ms/step\n",
      "1/1 - 0s - 12ms/epoch - 12ms/step\n",
      "1/1 - 0s - 12ms/epoch - 12ms/step\n",
      "1/1 - 0s - 13ms/epoch - 13ms/step\n",
      "1/1 - 0s - 12ms/epoch - 12ms/step\n",
      "1/1 - 0s - 12ms/epoch - 12ms/step\n",
      "1/1 - 0s - 13ms/epoch - 13ms/step\n",
      "1/1 - 0s - 14ms/epoch - 14ms/step\n",
      "1/1 - 0s - 13ms/epoch - 13ms/step\n",
      "1/1 - 0s - 14ms/epoch - 14ms/step\n",
      "1/1 - 0s - 13ms/epoch - 13ms/step\n",
      "1/1 - 0s - 13ms/epoch - 13ms/step\n",
      "1/1 - 0s - 13ms/epoch - 13ms/step\n",
      "1/1 - 0s - 12ms/epoch - 12ms/step\n",
      "1/1 - 0s - 13ms/epoch - 13ms/step\n",
      "1/1 - 0s - 13ms/epoch - 13ms/step\n",
      "1/1 - 0s - 14ms/epoch - 14ms/step\n",
      "1/1 - 0s - 13ms/epoch - 13ms/step\n",
      "1/1 - 0s - 13ms/epoch - 13ms/step\n",
      "1/1 - 0s - 13ms/epoch - 13ms/step\n",
      "1/1 - 0s - 14ms/epoch - 14ms/step\n",
      "1/1 - 0s - 14ms/epoch - 14ms/step\n",
      "1/1 - 0s - 13ms/epoch - 13ms/step\n",
      "1/1 - 0s - 14ms/epoch - 14ms/step\n",
      "1/1 - 0s - 14ms/epoch - 14ms/step\n",
      "1/1 - 0s - 13ms/epoch - 13ms/step\n",
      "1/1 - 0s - 14ms/epoch - 14ms/step\n",
      "1/1 - 0s - 15ms/epoch - 15ms/step\n",
      "1/1 - 0s - 13ms/epoch - 13ms/step\n",
      "1/1 - 0s - 14ms/epoch - 14ms/step\n",
      "1/1 - 0s - 14ms/epoch - 14ms/step\n",
      "1/1 - 0s - 13ms/epoch - 13ms/step\n",
      "1/1 - 0s - 14ms/epoch - 14ms/step\n",
      "1/1 - 0s - 14ms/epoch - 14ms/step\n",
      "1/1 - 0s - 15ms/epoch - 15ms/step\n",
      "1/1 - 0s - 14ms/epoch - 14ms/step\n",
      "1/1 - 0s - 14ms/epoch - 14ms/step\n",
      "1/1 - 0s - 14ms/epoch - 14ms/step\n",
      "1/1 - 0s - 14ms/epoch - 14ms/step\n",
      "1/1 - 0s - 14ms/epoch - 14ms/step\n",
      "1/1 - 0s - 14ms/epoch - 14ms/step\n",
      "1/1 - 0s - 14ms/epoch - 14ms/step\n",
      "1/1 - 0s - 14ms/epoch - 14ms/step\n",
      "1/1 - 0s - 14ms/epoch - 14ms/step\n",
      "1/1 - 0s - 15ms/epoch - 15ms/step\n",
      "1/1 - 0s - 15ms/epoch - 15ms/step\n",
      "1/1 - 0s - 15ms/epoch - 15ms/step\n",
      "1/1 - 0s - 15ms/epoch - 15ms/step\n",
      "1/1 - 0s - 14ms/epoch - 14ms/step\n",
      "1/1 - 0s - 15ms/epoch - 15ms/step\n",
      "1/1 - 0s - 14ms/epoch - 14ms/step\n",
      "1/1 - 0s - 15ms/epoch - 15ms/step\n",
      "1/1 - 0s - 15ms/epoch - 15ms/step\n",
      "1/1 - 0s - 14ms/epoch - 14ms/step\n",
      "1/1 - 0s - 15ms/epoch - 15ms/step\n",
      "1/1 - 0s - 15ms/epoch - 15ms/step\n",
      "1/1 - 0s - 15ms/epoch - 15ms/step\n",
      "1/1 - 0s - 16ms/epoch - 16ms/step\n",
      "1/1 - 0s - 15ms/epoch - 15ms/step\n",
      "1/1 - 0s - 14ms/epoch - 14ms/step\n",
      "1/1 - 0s - 16ms/epoch - 16ms/step\n",
      "1/1 - 0s - 14ms/epoch - 14ms/step\n",
      "1/1 - 0s - 14ms/epoch - 14ms/step\n",
      "1/1 - 0s - 15ms/epoch - 15ms/step\n",
      "1/1 - 0s - 15ms/epoch - 15ms/step\n",
      "1/1 - 0s - 15ms/epoch - 15ms/step\n",
      "1/1 - 0s - 15ms/epoch - 15ms/step\n",
      "1/1 - 0s - 15ms/epoch - 15ms/step\n",
      "1/1 - 0s - 15ms/epoch - 15ms/step\n",
      "1/1 - 0s - 15ms/epoch - 15ms/step\n",
      "1/1 - 0s - 15ms/epoch - 15ms/step\n",
      "1/1 - 0s - 16ms/epoch - 16ms/step\n",
      "1/1 - 0s - 16ms/epoch - 16ms/step\n",
      "1/1 - 0s - 15ms/epoch - 15ms/step\n",
      "1/1 - 0s - 15ms/epoch - 15ms/step\n",
      "1/1 - 0s - 16ms/epoch - 16ms/step\n",
      "1/1 - 0s - 15ms/epoch - 15ms/step\n",
      "1/1 - 0s - 16ms/epoch - 16ms/step\n",
      "1/1 - 0s - 15ms/epoch - 15ms/step\n",
      "1/1 - 0s - 16ms/epoch - 16ms/step\n",
      "1/1 - 0s - 16ms/epoch - 16ms/step\n",
      "1/1 - 0s - 16ms/epoch - 16ms/step\n",
      "1/1 - 0s - 15ms/epoch - 15ms/step\n",
      "1/1 - 0s - 16ms/epoch - 16ms/step\n",
      "1/1 - 0s - 15ms/epoch - 15ms/step\n",
      "1/1 - 0s - 15ms/epoch - 15ms/step\n",
      "1/1 - 0s - 17ms/epoch - 17ms/step\n",
      "1/1 - 0s - 16ms/epoch - 16ms/step\n",
      "1/1 - 0s - 15ms/epoch - 15ms/step\n",
      "1/1 - 0s - 15ms/epoch - 15ms/step\n",
      "1/1 - 0s - 16ms/epoch - 16ms/step\n",
      "1/1 - 0s - 16ms/epoch - 16ms/step\n",
      "1/1 - 0s - 16ms/epoch - 16ms/step\n",
      "1/1 - 0s - 16ms/epoch - 16ms/step\n",
      "1/1 - 0s - 16ms/epoch - 16ms/step\n",
      "1/1 - 0s - 16ms/epoch - 16ms/step\n",
      "1/1 - 0s - 16ms/epoch - 16ms/step\n",
      "1/1 - 0s - 16ms/epoch - 16ms/step\n",
      "1/1 - 0s - 16ms/epoch - 16ms/step\n",
      "1/1 - 0s - 16ms/epoch - 16ms/step\n",
      "1/1 - 0s - 17ms/epoch - 17ms/step\n",
      "1/1 - 0s - 16ms/epoch - 16ms/step\n",
      "1/1 - 0s - 16ms/epoch - 16ms/step\n",
      "1/1 - 0s - 17ms/epoch - 17ms/step\n",
      "1/1 - 0s - 16ms/epoch - 16ms/step\n",
      "1/1 - 0s - 16ms/epoch - 16ms/step\n",
      "1/1 - 0s - 16ms/epoch - 16ms/step\n",
      "1/1 - 0s - 17ms/epoch - 17ms/step\n",
      "1/1 - 0s - 17ms/epoch - 17ms/step\n",
      "1/1 - 0s - 17ms/epoch - 17ms/step\n",
      "1/1 - 0s - 18ms/epoch - 18ms/step\n",
      "1/1 - 0s - 17ms/epoch - 17ms/step\n",
      "1/1 - 0s - 17ms/epoch - 17ms/step\n",
      "1/1 - 0s - 17ms/epoch - 17ms/step\n",
      "1/1 - 0s - 17ms/epoch - 17ms/step\n",
      "1/1 - 0s - 16ms/epoch - 16ms/step\n",
      "[1, 1581, 1154, 1014, 9480, 16, 2, 41, 965, 2596, 111, 138, 18, 2, 2, 2, 2, 2, 18, 2, 2, 2, 2, 2, 2, 2, 18, 2, 2, 2, 2, 2, 2, 2, 2, 2, 2, 2, 2, 2, 18, 2, 18, 2, 18, 2, 18, 2, 18, 2, 2, 2, 18, 2, 2, 2, 2, 2, 2, 2, 18, 2, 18, 2, 18, 2, 18, 2, 18, 2, 2, 2, 2, 2, 2, 2, 18, 2, 18, 2, 2, 2, 2, 18, 2, 18, 2, 319, 428, 2, 18, 2, 18, 2, 18, 2, 18, 2, 18, 2, 18, 2, 18, 2, 18, 2, 18, 2, 6525, 18, 2, 18, 2, 2, 2, 2, 2, 2, 2, 2, 2, 18, 2, 2, 2, 2, 2, 18]\n",
      "Input:         : Sarpong is going to school\n",
      "Prediction     : hwehwɛ bea nye woana, a ofi ber no mu..................bohi......... amumuyɛ....\n"
     ]
    }
   ],
   "execution_count": 91
  },
  {
   "metadata": {},
   "cell_type": "code",
   "outputs": [],
   "execution_count": null,
   "source": "",
   "id": "5f013b32dfd0704e"
  }
 ],
 "metadata": {
  "kernelspec": {
   "display_name": "Python 3",
   "language": "python",
   "name": "python3"
  },
  "language_info": {
   "codemirror_mode": {
    "name": "ipython",
    "version": 2
   },
   "file_extension": ".py",
   "mimetype": "text/x-python",
   "name": "python",
   "nbconvert_exporter": "python",
   "pygments_lexer": "ipython2",
   "version": "2.7.6"
  }
 },
 "nbformat": 4,
 "nbformat_minor": 5
}
