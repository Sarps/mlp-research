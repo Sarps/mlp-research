{
 "cells": [
  {
   "cell_type": "code",
   "id": "initial_id",
   "metadata": {
    "collapsed": true,
    "ExecuteTime": {
     "end_time": "2024-02-16T04:15:13.572612Z",
     "start_time": "2024-02-16T04:15:13.554269Z"
    }
   },
   "source": "import tiktoken",
   "outputs": [],
   "execution_count": 1
  },
  {
   "metadata": {
    "ExecuteTime": {
     "end_time": "2024-02-16T04:15:15.754530Z",
     "start_time": "2024-02-16T04:15:13.573635Z"
    }
   },
   "cell_type": "code",
   "source": [
    "# enc = tiktoken.get_encoding(\"cl100k_base\")\n",
    "enc = tiktoken.encoding_for_model(\"gpt-4\")\n",
    "enc.encode(\"hello world\")"
   ],
   "id": "408a247e1a5c7613",
   "outputs": [
    {
     "data": {
      "text/plain": [
       "[15339, 1917]"
      ]
     },
     "execution_count": 2,
     "metadata": {},
     "output_type": "execute_result"
    }
   ],
   "execution_count": 2
  },
  {
   "metadata": {
    "ExecuteTime": {
     "end_time": "2024-02-16T04:16:30.174985Z",
     "start_time": "2024-02-16T04:16:30.171107Z"
    }
   },
   "cell_type": "code",
   "source": "enc.encode(\"hello\")",
   "id": "ca63bfe6479a3641",
   "outputs": [
    {
     "data": {
      "text/plain": [
       "[15339]"
      ]
     },
     "execution_count": 5,
     "metadata": {},
     "output_type": "execute_result"
    }
   ],
   "execution_count": 5
  },
  {
   "metadata": {
    "ExecuteTime": {
     "end_time": "2024-02-16T04:16:36.920128Z",
     "start_time": "2024-02-16T04:16:36.917153Z"
    }
   },
   "cell_type": "code",
   "source": "enc.encode(\"h\")",
   "id": "fba63d406ab14432",
   "outputs": [
    {
     "data": {
      "text/plain": [
       "[71]"
      ]
     },
     "execution_count": 6,
     "metadata": {},
     "output_type": "execute_result"
    }
   ],
   "execution_count": 6
  },
  {
   "metadata": {
    "ExecuteTime": {
     "end_time": "2024-02-16T04:16:47.501946Z",
     "start_time": "2024-02-16T04:16:47.499487Z"
    }
   },
   "cell_type": "code",
   "source": "enc.encode(\"he\")",
   "id": "fa52a6ccc91e8de1",
   "outputs": [
    {
     "data": {
      "text/plain": [
       "[383]"
      ]
     },
     "execution_count": 7,
     "metadata": {},
     "output_type": "execute_result"
    }
   ],
   "execution_count": 7
  },
  {
   "metadata": {
    "ExecuteTime": {
     "end_time": "2024-02-16T04:17:04.334162Z",
     "start_time": "2024-02-16T04:17:04.331581Z"
    }
   },
   "cell_type": "code",
   "source": "enc.encode(\"h he hello\")",
   "id": "3ed82e05f6d56e8e",
   "outputs": [
    {
     "data": {
      "text/plain": [
       "[71, 568, 24748]"
      ]
     },
     "execution_count": 8,
     "metadata": {},
     "output_type": "execute_result"
    }
   ],
   "execution_count": 8
  },
  {
   "metadata": {
    "ExecuteTime": {
     "end_time": "2024-02-16T04:18:05.700236Z",
     "start_time": "2024-02-16T04:18:05.696941Z"
    }
   },
   "cell_type": "code",
   "source": "enc.encode(\"world hello\")",
   "id": "ecd2a096e65da819",
   "outputs": [
    {
     "data": {
      "text/plain": [
       "[14957, 24748]"
      ]
     },
     "execution_count": 12,
     "metadata": {},
     "output_type": "execute_result"
    }
   ],
   "execution_count": 12
  },
  {
   "metadata": {
    "ExecuteTime": {
     "end_time": "2024-02-16T04:18:30.690161Z",
     "start_time": "2024-02-16T04:18:30.685656Z"
    }
   },
   "cell_type": "code",
   "source": "enc.encode(\"k) fa book no bra\")",
   "id": "16e740a17eefad88",
   "outputs": [
    {
     "data": {
      "text/plain": [
       "[74, 8, 2267, 2363, 912, 20716]"
      ]
     },
     "execution_count": 14,
     "metadata": {},
     "output_type": "execute_result"
    }
   ],
   "execution_count": 14
  },
  {
   "metadata": {},
   "cell_type": "code",
   "outputs": [],
   "execution_count": null,
   "source": "",
   "id": "690b6eb7ffc36f08"
  }
 ],
 "metadata": {
  "kernelspec": {
   "display_name": "Python 3",
   "language": "python",
   "name": "python3"
  },
  "language_info": {
   "codemirror_mode": {
    "name": "ipython",
    "version": 2
   },
   "file_extension": ".py",
   "mimetype": "text/x-python",
   "name": "python",
   "nbconvert_exporter": "python",
   "pygments_lexer": "ipython2",
   "version": "2.7.6"
  }
 },
 "nbformat": 4,
 "nbformat_minor": 5
}
