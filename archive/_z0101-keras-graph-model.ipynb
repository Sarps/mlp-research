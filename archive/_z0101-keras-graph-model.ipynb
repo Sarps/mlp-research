{
 "cells": [
  {
   "cell_type": "code",
   "id": "initial_id",
   "metadata": {
    "collapsed": true,
    "ExecuteTime": {
     "end_time": "2024-02-18T21:12:24.685438Z",
     "start_time": "2024-02-18T21:12:24.655806Z"
    }
   },
   "source": [
    "from keras import layers\n",
    "from archive.lib.models.graph import Graph\n",
    "\n",
    "model = Graph(\n",
    "    inputs=[\n",
    "        layers.Input(shape=(784,), name='input1'),\n",
    "        layers.Input(shape=(10,), name='input2')\n",
    "    ],\n",
    "    layers=[\n",
    "        layers.Dense(128, activation='relu', name='dense1'),\n",
    "        layers.Dense(64, activation='relu', name='dense2'),\n",
    "        layers.Dense(64, activation='relu', name='dense3'),\n",
    "        layers.Dense(10, activation='softmax', name='output')\n",
    "    ],\n",
    "    connections=[\n",
    "        ('input1', 'dense1'),\n",
    "        ('dense1', 'dense2'),\n",
    "        ('dense2', 'output')\n",
    "    ]\n",
    ")"
   ],
   "outputs": [],
   "execution_count": 7
  },
  {
   "metadata": {
    "ExecuteTime": {
     "end_time": "2024-02-18T21:12:32.416410Z",
     "start_time": "2024-02-18T21:12:32.406059Z"
    }
   },
   "cell_type": "code",
   "source": "model.summary()",
   "id": "e03ab037b6b67e75",
   "outputs": [
    {
     "name": "stdout",
     "output_type": "stream",
     "text": [
      "Model: \"graph_1\"\n",
      "_________________________________________________________________\n",
      " Layer (type)                Output Shape              Param #   \n",
      "=================================================================\n",
      " input1 (InputLayer)         [(None, 784)]             0         \n",
      "                                                                 \n",
      " dense1 (Dense)              (None, 128)               100480    \n",
      "                                                                 \n",
      " dense2 (Dense)              (None, 64)                8256      \n",
      "                                                                 \n",
      " output (Dense)              (None, 10)                650       \n",
      "                                                                 \n",
      "=================================================================\n",
      "Total params: 109386 (427.29 KB)\n",
      "Trainable params: 109386 (427.29 KB)\n",
      "Non-trainable params: 0 (0.00 Byte)\n",
      "_________________________________________________________________\n"
     ]
    }
   ],
   "execution_count": 8
  },
  {
   "metadata": {
    "ExecuteTime": {
     "end_time": "2024-02-18T21:12:37.890628Z",
     "start_time": "2024-02-18T21:12:37.881207Z"
    }
   },
   "cell_type": "code",
   "source": "model.summary()",
   "id": "d45f7daaa0836123",
   "outputs": [
    {
     "name": "stdout",
     "output_type": "stream",
     "text": [
      "Model: \"graph_1\"\n",
      "_________________________________________________________________\n",
      " Layer (type)                Output Shape              Param #   \n",
      "=================================================================\n",
      " input1 (InputLayer)         [(None, 784)]             0         \n",
      "                                                                 \n",
      " dense1 (Dense)              (None, 128)               100480    \n",
      "                                                                 \n",
      " dense2 (Dense)              (None, 64)                8256      \n",
      "                                                                 \n",
      " output (Dense)              (None, 10)                650       \n",
      "                                                                 \n",
      "=================================================================\n",
      "Total params: 109386 (427.29 KB)\n",
      "Trainable params: 109386 (427.29 KB)\n",
      "Non-trainable params: 0 (0.00 Byte)\n",
      "_________________________________________________________________\n"
     ]
    }
   ],
   "execution_count": 9
  },
  {
   "metadata": {
    "ExecuteTime": {
     "end_time": "2024-02-19T13:22:35.331272Z",
     "start_time": "2024-02-19T13:22:32.613006Z"
    }
   },
   "cell_type": "code",
   "source": [
    "from archive.lib.models.graph import Connection, Graph\n",
    "from tensorflow.keras import layers\n",
    "\n",
    "# Assuming the Graph class is defined as previously discussed\n",
    "num_encoder_tokens = 128\n",
    "num_decoder_tokens = 128\n",
    "\n",
    "latent_dim = 64\n",
    "\n",
    "# Define your seq2seq architecture using the Graph model\n",
    "seq2seq_model = Graph(\n",
    "    inputs=[\n",
    "        layers.Input(shape=(None, num_encoder_tokens), name='encoder_input'),\n",
    "        layers.Input(shape=(None, num_decoder_tokens), name='decoder_input')\n",
    "    ],\n",
    "    layers=[\n",
    "        layers.GRU(latent_dim, return_state=True, name='encoder_rnn'),\n",
    "        layers.GRU(latent_dim, return_sequences=True, name='decoder_rnn'),\n",
    "        layers.Dense(num_decoder_tokens, activation='softmax', name='decoder_dense')\n",
    "    ],\n",
    "    connections=[\n",
    "        Connection('encoder_input', 'encoder_rnn'),\n",
    "        # decoder_rnn accepts 2 named arguments.\n",
    "        # The 'inputs' argument takes its value from the decoder_input. \n",
    "        # The 'initial_state' argument takes its value from the second output(index 1) of the encoder_rnn\n",
    "        Connection('decoder_input', ('decoder_rnn', 'inputs')),\n",
    "        Connection(('encoder_rnn', 1), ('decoder_rnn', 'initial_state')),\n",
    "        Connection('decoder_rnn', 'decoder_dense'),\n",
    "    ]\n",
    ")\n",
    "\n",
    "# Note: This simplified setup does not directly handle the state transfer between encoder and decoder.\n",
    "# In practice, you would need a custom layer or mechanism to manage the LSTM states.\n"
   ],
   "id": "713ab610107641c9",
   "outputs": [],
   "execution_count": 1
  },
  {
   "metadata": {
    "ExecuteTime": {
     "end_time": "2024-02-19T13:22:48.449247Z",
     "start_time": "2024-02-19T13:22:48.441472Z"
    }
   },
   "cell_type": "code",
   "source": "seq2seq_model.summary()",
   "id": "42db7065836f1e81",
   "outputs": [
    {
     "name": "stdout",
     "output_type": "stream",
     "text": [
      "Model: \"graph\"\n",
      "__________________________________________________________________________________________________\n",
      " Layer (type)                Output Shape                 Param #   Connected to                  \n",
      "==================================================================================================\n",
      " encoder_input (InputLayer)  [(None, None, 128)]          0         []                            \n",
      "                                                                                                  \n",
      " decoder_input (InputLayer)  [(None, None, 128)]          0         []                            \n",
      "                                                                                                  \n",
      " encoder_rnn (GRU)           [(None, 64),                 37248     ['encoder_input[0][0]']       \n",
      "                              (None, 64)]                                                         \n",
      "                                                                                                  \n",
      " decoder_rnn (GRU)           (None, None, 64)             37248     ['decoder_input[0][0]',       \n",
      "                                                                     'encoder_rnn[0][1]']         \n",
      "                                                                                                  \n",
      " decoder_dense (Dense)       (None, None, 128)            8320      ['decoder_rnn[0][0]']         \n",
      "                                                                                                  \n",
      "==================================================================================================\n",
      "Total params: 82816 (323.50 KB)\n",
      "Trainable params: 82816 (323.50 KB)\n",
      "Non-trainable params: 0 (0.00 Byte)\n",
      "__________________________________________________________________________________________________\n"
     ]
    }
   ],
   "execution_count": 3
  },
  {
   "metadata": {},
   "cell_type": "code",
   "outputs": [],
   "execution_count": null,
   "source": "",
   "id": "dc16c3cda3662a8"
  }
 ],
 "metadata": {
  "kernelspec": {
   "display_name": "Python 3",
   "language": "python",
   "name": "python3"
  },
  "language_info": {
   "codemirror_mode": {
    "name": "ipython",
    "version": 2
   },
   "file_extension": ".py",
   "mimetype": "text/x-python",
   "name": "python",
   "nbconvert_exporter": "python",
   "pygments_lexer": "ipython2",
   "version": "2.7.6"
  }
 },
 "nbformat": 4,
 "nbformat_minor": 5
}
