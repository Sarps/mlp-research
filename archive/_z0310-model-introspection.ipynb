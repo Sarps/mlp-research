{
 "cells": [
  {
   "cell_type": "code",
   "execution_count": null,
   "id": "initial_id",
   "metadata": {
    "collapsed": true
   },
   "outputs": [],
   "source": "from keras import models, layers, losses, optimizers"
  },
  {
   "metadata": {},
   "cell_type": "code",
   "outputs": [],
   "execution_count": null,
   "source": [
    "model = models.Sequential(\n",
    "    [\n",
    "        layers.Dense(50, activation='relu'),\n",
    "        layers.Dense(10, activation='softmax')\n",
    "    ]\n",
    ")"
   ],
   "id": "80fb44f53887355f"
  },
  {
   "metadata": {},
   "cell_type": "code",
   "outputs": [],
   "execution_count": null,
   "source": [
    "model.compile(loss=losses.categorical_crossentropy,\n",
    "              optimizer=optimizers.Adadelta(), metrics=['accuracy'])"
   ],
   "id": "9cb92febf603f162"
  },
  {
   "metadata": {},
   "cell_type": "code",
   "outputs": [],
   "execution_count": null,
   "source": [
    "for eachLayer in model.layers:\n",
    "    configInfo = eachLayer.get_config()\n",
    "    configInfo[\"trainable\"] # set this to False in order to freeze a layer's weights\n",
    "    configInfo[\"dtype\"] # generally float32; verify if you're getting input errors\n",
    "\n",
    "    inputShape = eachLayer.input_shape\n",
    "    len(inputShape) # number of dimensions expected as input\n",
    "    inputShape[0] # number of elements expected in the first dimension\n",
    "    eachLayer.output_shape # same as input but for the outputs\n",
    "\n",
    "    weights, lossWeights = eachLayer.get_weights()\n",
    "    # lossWeights are used while training the model, generally not useful to us"
   ],
   "id": "6a58e45342010f81"
  }
 ],
 "metadata": {
  "kernelspec": {
   "display_name": "Python 3",
   "language": "python",
   "name": "python3"
  },
  "language_info": {
   "codemirror_mode": {
    "name": "ipython",
    "version": 2
   },
   "file_extension": ".py",
   "mimetype": "text/x-python",
   "name": "python",
   "nbconvert_exporter": "python",
   "pygments_lexer": "ipython2",
   "version": "2.7.6"
  }
 },
 "nbformat": 4,
 "nbformat_minor": 5
}
